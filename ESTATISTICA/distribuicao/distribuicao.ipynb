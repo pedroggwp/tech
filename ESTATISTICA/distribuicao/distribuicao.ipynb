{
 "cells": [
  {
   "cell_type": "markdown",
   "metadata": {},
   "source": [
    "# <center> 🎲 Distribuição: Bernoulli e Binomial 🎲"
   ]
  },
  {
   "cell_type": "code",
   "execution_count": 1,
   "metadata": {},
   "outputs": [],
   "source": [
    "from scipy.stats import bernoulli, binom"
   ]
  },
  {
   "cell_type": "markdown",
   "metadata": {},
   "source": [
    "## Bernoulli"
   ]
  },
  {
   "cell_type": "code",
   "execution_count": 7,
   "metadata": {},
   "outputs": [
    {
     "name": "stdout",
     "output_type": "stream",
     "text": [
      "0.3\n",
      "0.7000000000000002\n"
     ]
    }
   ],
   "source": [
    "# Success chance\n",
    "p = 0.3\n",
    "\n",
    "# Success\n",
    "success_probability = bernoulli.pmf(1, p) # .pmf() - Probability Mass Function\n",
    "print(success_probability)\n",
    "\n",
    "# Not Success\n",
    "not_success_probability = bernoulli.pmf(0, p) # .pmf() - Probability Mass Function\n",
    "print(not_success_probability)"
   ]
  },
  {
   "cell_type": "code",
   "execution_count": null,
   "metadata": {},
   "outputs": [],
   "source": [
    "# rvs - data generation - Random variates\n",
    "print(bernoulli.rvs(p, size=1000))"
   ]
  },
  {
   "cell_type": "markdown",
   "metadata": {},
   "source": [
    "## Binomial"
   ]
  },
  {
   "cell_type": "markdown",
   "metadata": {},
   "source": [
    "### Primeiro Exercício"
   ]
  },
  {
   "cell_type": "code",
   "execution_count": 8,
   "metadata": {},
   "outputs": [
    {
     "name": "stdout",
     "output_type": "stream",
     "text": [
      "18.87 %\n"
     ]
    }
   ],
   "source": [
    "# params\n",
    "n = 20\n",
    "p = 0.95\n",
    "k = 18\n",
    "\n",
    "# Finding the probability for EXACTLY 18 SUCCESS\n",
    "success_prob = binom.pmf(k, n, p)\n",
    "print(round(success_prob * 100, 2), '%')\n"
   ]
  },
  {
   "cell_type": "markdown",
   "metadata": {},
   "source": [
    "### Segundo Exercício"
   ]
  },
  {
   "cell_type": "code",
   "execution_count": 9,
   "metadata": {},
   "outputs": [
    {
     "name": "stdout",
     "output_type": "stream",
     "text": [
      "[0.20589113 0.34315189 0.26689591 0.12850544]\n"
     ]
    }
   ],
   "source": [
    "# params\n",
    "n = 15\n",
    "p = 0.1\n",
    "k = [0, 1, 2, 3]\n",
    "\n",
    "# Finding the probability for EXACTLY 18 SUCCESS\n",
    "success_prob = binom.pmf(k, n, p)\n",
    "print(success_prob)"
   ]
  }
 ],
 "metadata": {
  "kernelspec": {
   "display_name": "Python 3",
   "language": "python",
   "name": "python3"
  },
  "language_info": {
   "codemirror_mode": {
    "name": "ipython",
    "version": 3
   },
   "file_extension": ".py",
   "mimetype": "text/x-python",
   "name": "python",
   "nbconvert_exporter": "python",
   "pygments_lexer": "ipython3",
   "version": "3.11.2"
  }
 },
 "nbformat": 4,
 "nbformat_minor": 2
}
